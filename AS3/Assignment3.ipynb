{
  "nbformat": 4,
  "nbformat_minor": 0,
  "metadata": {
    "colab": {
      "name": "Assignment3.ipynb",
      "provenance": [],
      "collapsed_sections": []
    },
    "kernelspec": {
      "name": "python3",
      "display_name": "Python 3"
    },
    "accelerator": "GPU"
  },
  "cells": [
    {
      "cell_type": "code",
      "metadata": {
        "id": "nDaX3wPrQris"
      },
      "source": [
        "from keras import layers\n",
        "from keras import models\n",
        "from keras.initializers import GlorotNormal\n",
        "from keras.optimizers import Adam\n",
        "from keras.datasets import mnist\n",
        "from keras.utils import to_categorical\n",
        "import matplotlib.pyplot as plt\n",
        "import numpy as np\n",
        "from keras.models import Sequential"
      ],
      "execution_count": 624,
      "outputs": []
    },
    {
      "cell_type": "code",
      "metadata": {
        "id": "BpnWAeNoQxNd",
        "outputId": "6b388abd-09d8-49a9-f787-1cbcb31d7cdd",
        "colab": {
          "base_uri": "https://localhost:8080/"
        }
      },
      "source": [
        "# The data, split between train and test sets:\n",
        "(train_images, train_labels), (test_images, test_labels) = mnist.load_data()\n",
        "\n",
        "\n",
        "train_labels = train_labels % 2\n",
        "test_labels = test_labels % 2\n",
        "\n",
        "train_l = ['Odd' if x == 1 else \"Even\" for x in train_labels]\n",
        "\n",
        "train_images_subs= train_images[0:55000]\n",
        "train_labels_subs = train_labels[0:55000]\n",
        "\n",
        "test_images_subs = test_images[5000:]\n",
        "test_label_subs = test_labels[5000:]\n",
        "\n",
        "validation_images_a = train_images[55000:]\n",
        "validation_images_a_label = train_labels[55000:]\n",
        "validation_images_b = test_images[:5000]\n",
        "validation_images_b_label = test_labels[:5000]\n",
        "\n",
        "train_val = np.vstack((validation_images_a,validation_images_b))\n",
        "train_lab_val = np.append(validation_images_a_label, validation_images_b_label)\n",
        "print(train_labels_subs.shape,test_label_subs.shape,train_lab_val.shape)\n",
        "\n",
        "\n"
      ],
      "execution_count": 625,
      "outputs": [
        {
          "output_type": "stream",
          "text": [
            "(55000,) (5000,) (10000,)\n"
          ],
          "name": "stdout"
        }
      ]
    },
    {
      "cell_type": "code",
      "metadata": {
        "id": "_-CbtPIDQ2bG",
        "outputId": "3a340e68-7041-4016-b728-4c6f3f1f6dd3",
        "colab": {
          "base_uri": "https://localhost:8080/"
        }
      },
      "source": [
        "train_labels_subs = to_categorical(train_labels_subs)\n",
        "test_label_subs = to_categorical(test_label_subs)\n",
        "train_lab_val = to_categorical(train_lab_val)\n",
        "print(train_labels_subs.shape)\n",
        "print(test_label_subs.shape)\n",
        "print(train_lab_val.shape)"
      ],
      "execution_count": 626,
      "outputs": [
        {
          "output_type": "stream",
          "text": [
            "(55000, 2)\n",
            "(5000, 2)\n",
            "(10000, 2)\n"
          ],
          "name": "stdout"
        }
      ]
    },
    {
      "cell_type": "code",
      "metadata": {
        "id": "RJbdJEluQ6NP"
      },
      "source": [
        "train_images_subs = train_images_subs.reshape((55000 , 28, 28, 1))\n",
        "train_images_subs = train_images_subs.astype( 'float32' ) / 255\n",
        "\n",
        "test_images_subs = test_images_subs.reshape((5000 , 28, 28, 1))\n",
        "test_label_subs = test_label_subs.astype( 'float32' ) / 255\n",
        "\n",
        "train_val = train_val.reshape((10000 , 28, 28, 1))\n",
        "train_val = train_val.astype( 'float32' ) / 255"
      ],
      "execution_count": 627,
      "outputs": []
    },
    {
      "cell_type": "code",
      "metadata": {
        "id": "TjvGLTl4Q8JW",
        "outputId": "fdacab12-54c0-4c82-8981-bc54b6a196c4",
        "colab": {
          "base_uri": "https://localhost:8080/"
        }
      },
      "source": [
        "model = models.Sequential()\n",
        "model.add(layers.Conv2D(32,(3,3), activation='relu',input_shape=(28,28,1)))\n",
        "model.add(layers.MaxPooling2D((2,2)))\n",
        "model.add(layers.Conv2D(64,(3,3),activation='relu'))\n",
        "model.add(layers.MaxPooling2D((2,2)))\n",
        "model.add(layers.Dropout(0.6))\n",
        "model.add(layers.Flatten())\n",
        "model.add(layers.Dense(128,activation='relu'))\n",
        "model.add(layers.Dense(2,activation='softmax'))\n",
        "\n",
        "model.summary()"
      ],
      "execution_count": 628,
      "outputs": [
        {
          "output_type": "stream",
          "text": [
            "Model: \"sequential_31\"\n",
            "_________________________________________________________________\n",
            "Layer (type)                 Output Shape              Param #   \n",
            "=================================================================\n",
            "conv2d_62 (Conv2D)           (None, 26, 26, 32)        320       \n",
            "_________________________________________________________________\n",
            "max_pooling2d_60 (MaxPooling (None, 13, 13, 32)        0         \n",
            "_________________________________________________________________\n",
            "conv2d_63 (Conv2D)           (None, 11, 11, 64)        18496     \n",
            "_________________________________________________________________\n",
            "max_pooling2d_61 (MaxPooling (None, 5, 5, 64)          0         \n",
            "_________________________________________________________________\n",
            "dropout_29 (Dropout)         (None, 5, 5, 64)          0         \n",
            "_________________________________________________________________\n",
            "flatten_29 (Flatten)         (None, 1600)              0         \n",
            "_________________________________________________________________\n",
            "dense_58 (Dense)             (None, 128)               204928    \n",
            "_________________________________________________________________\n",
            "dense_59 (Dense)             (None, 2)                 258       \n",
            "=================================================================\n",
            "Total params: 224,002\n",
            "Trainable params: 224,002\n",
            "Non-trainable params: 0\n",
            "_________________________________________________________________\n"
          ],
          "name": "stdout"
        }
      ]
    },
    {
      "cell_type": "code",
      "metadata": {
        "id": "nMptiH2HQ-lQ"
      },
      "source": [
        "# Compile network\n",
        "opt = Adam(lr = 0.001)\n",
        "model.compile( optimizer = opt, loss = 'binary_crossentropy', metrics = ['accuracy'])"
      ],
      "execution_count": 629,
      "outputs": []
    },
    {
      "cell_type": "code",
      "metadata": {
        "id": "9qF04DatRBQ4",
        "outputId": "4757c8ab-fedd-460c-abae-4fdbf58ee7d3",
        "colab": {
          "base_uri": "https://localhost:8080/"
        }
      },
      "source": [
        "# Training the model\n",
        "\n",
        "history = model.fit(train_images_subs, train_labels_subs, epochs = 10, batch_size= 128, validation_data=(train_val, train_lab_val))"
      ],
      "execution_count": 630,
      "outputs": [
        {
          "output_type": "stream",
          "text": [
            "Epoch 1/10\n",
            "430/430 [==============================] - 2s 5ms/step - loss: 0.1487 - accuracy: 0.9401 - val_loss: 0.0476 - val_accuracy: 0.9831\n",
            "Epoch 2/10\n",
            "430/430 [==============================] - 2s 5ms/step - loss: 0.0583 - accuracy: 0.9796 - val_loss: 0.0316 - val_accuracy: 0.9905\n",
            "Epoch 3/10\n",
            "430/430 [==============================] - 2s 5ms/step - loss: 0.0418 - accuracy: 0.9848 - val_loss: 0.0245 - val_accuracy: 0.9919\n",
            "Epoch 4/10\n",
            "430/430 [==============================] - 2s 5ms/step - loss: 0.0364 - accuracy: 0.9877 - val_loss: 0.0223 - val_accuracy: 0.9923\n",
            "Epoch 5/10\n",
            "430/430 [==============================] - 2s 5ms/step - loss: 0.0300 - accuracy: 0.9894 - val_loss: 0.0198 - val_accuracy: 0.9938\n",
            "Epoch 6/10\n",
            "430/430 [==============================] - 2s 5ms/step - loss: 0.0272 - accuracy: 0.9905 - val_loss: 0.0204 - val_accuracy: 0.9932\n",
            "Epoch 7/10\n",
            "430/430 [==============================] - 2s 5ms/step - loss: 0.0244 - accuracy: 0.9914 - val_loss: 0.0231 - val_accuracy: 0.9923\n",
            "Epoch 8/10\n",
            "430/430 [==============================] - 2s 5ms/step - loss: 0.0222 - accuracy: 0.9925 - val_loss: 0.0180 - val_accuracy: 0.9936\n",
            "Epoch 9/10\n",
            "430/430 [==============================] - 2s 5ms/step - loss: 0.0217 - accuracy: 0.9922 - val_loss: 0.0161 - val_accuracy: 0.9951\n",
            "Epoch 10/10\n",
            "430/430 [==============================] - 2s 5ms/step - loss: 0.0196 - accuracy: 0.9935 - val_loss: 0.0149 - val_accuracy: 0.9952\n"
          ],
          "name": "stdout"
        }
      ]
    },
    {
      "cell_type": "code",
      "metadata": {
        "id": "Y40vX_y8Rlb0",
        "outputId": "23b7a0fe-619d-4832-a59b-798b54730055",
        "colab": {
          "base_uri": "https://localhost:8080/"
        }
      },
      "source": [
        "# Plot accuracy and loss\n",
        "import matplotlib.pyplot as plt\n",
        "history_dict = history.history\n",
        "history_dict.keys()"
      ],
      "execution_count": 631,
      "outputs": [
        {
          "output_type": "execute_result",
          "data": {
            "text/plain": [
              "dict_keys(['loss', 'accuracy', 'val_loss', 'val_accuracy'])"
            ]
          },
          "metadata": {
            "tags": []
          },
          "execution_count": 631
        }
      ]
    },
    {
      "cell_type": "code",
      "metadata": {
        "id": "gQ9E5OX8RnQ7"
      },
      "source": [
        "acc = history_dict['accuracy']\n",
        "val_acc = history_dict['val_accuracy']\n",
        "loss = history_dict['loss']\n",
        "val_loss = history_dict['val_loss']\n",
        "epochs = range(1, len(acc) + 1)"
      ],
      "execution_count": 632,
      "outputs": []
    },
    {
      "cell_type": "code",
      "metadata": {
        "id": "8M1Z-FkORpND",
        "outputId": "52d4bb25-92a5-4bf9-f00f-ee072407a104",
        "colab": {
          "base_uri": "https://localhost:8080/",
          "height": 295
        }
      },
      "source": [
        "plt.plot(epochs, loss, 'r', label = 'Training Loss')\n",
        "plt.plot(epochs, val_loss, 'b', label = 'Validation Loss')\n",
        "plt.title('Training and Validation loss')\n",
        "plt.xlabel('Epochs')\n",
        "plt.ylabel('Loss')\n",
        "plt.legend()\n",
        "plt.show()"
      ],
      "execution_count": 633,
      "outputs": [
        {
          "output_type": "display_data",
          "data": {
            "image/png": "[encoded data removed]",
            "text/plain": [
              "<Figure size 432x288 with 1 Axes>"
            ]
          },
          "metadata": {
            "tags": [],
            "needs_background": "light"
          }
        }
      ]
    },
    {
      "cell_type": "code",
      "metadata": {
        "id": "Hc_3HeB-Rq_E",
        "outputId": "2b50d37c-d62c-4741-81a4-5533b891e6fe",
        "colab": {
          "base_uri": "https://localhost:8080/",
          "height": 295
        }
      },
      "source": [
        "plt.plot(epochs, acc, 'r', label = 'Training Acc')\n",
        "plt.plot(epochs, val_acc, 'b', label = 'Validation Acc')\n",
        "plt.title('Training and Validation accuracy')\n",
        "plt.xlabel('Epochs')\n",
        "plt.ylabel('Accuracy')\n",
        "plt.legend()\n",
        "plt.show()"
      ],
      "execution_count": 634,
      "outputs": [
        {
          "output_type": "display_data",
          "data": {
            "image/png": "[encoded data removed]",
            "text/plain": [
              "<Figure size 432x288 with 1 Axes>"
            ]
          },
          "metadata": {
            "tags": [],
            "needs_background": "light"
          }
        }
      ]
    },
    {
      "cell_type": "code",
      "metadata": {
        "id": "0sZCCrXJRtil",
        "outputId": "22f22368-467f-48e0-9c18-f786e062dcda",
        "colab": {
          "base_uri": "https://localhost:8080/"
        }
      },
      "source": [
        "print(\"Accuracy at the last epoch:\")\n",
        "print(\"Training Accuracy:\", acc[-1])\n",
        "print(\"Validation Accuracy:\", val_acc[-1])"
      ],
      "execution_count": 635,
      "outputs": [
        {
          "output_type": "stream",
          "text": [
            "Accuracy at the last epoch:\n",
            "Training Accuracy: 0.9934727549552917\n",
            "Validation Accuracy: 0.995199978351593\n"
          ],
          "name": "stdout"
        }
      ]
    },
    {
      "cell_type": "code",
      "metadata": {
        "id": "XVNyGl_kRwUC",
        "outputId": "52a51298-e715-43a4-e151-34087bd44cd1",
        "colab": {
          "base_uri": "https://localhost:8080/"
        }
      },
      "source": [
        "print(\"Loss at the last epoch:\")\n",
        "print(\"Training Loss:\", loss[-1])\n",
        "print(\"Validation Loss:\", val_loss[-1])"
      ],
      "execution_count": 636,
      "outputs": [
        {
          "output_type": "stream",
          "text": [
            "Loss at the last epoch:\n",
            "Training Loss: 0.019603243097662926\n",
            "Validation Loss: 0.014913982711732388\n"
          ],
          "name": "stdout"
        }
      ]
    },
    {
      "cell_type": "code",
      "metadata": {
        "id": "1y3vIoyXd8j7",
        "outputId": "0e4a38df-9989-40fa-fbf5-d7238ce30555",
        "colab": {
          "base_uri": "https://localhost:8080/"
        }
      },
      "source": [
        "model = models.Sequential()\n",
        "model.add(layers.Conv2D(32,(3,3),activation='relu',input_shape=(28,28,1)))\n",
        "model.add(layers.MaxPooling2D((2,2)))\n",
        "model.add(layers.Conv2D(64,(3,3),activation='relu'))\n",
        "model.add(layers.MaxPooling2D((2,2)))\n",
        "model.add(layers.Dropout(0.6))\n",
        "model.add(layers.Flatten())\n",
        "model.add(layers.Dense(128,activation='relu'))\n",
        "model.add(layers.Dense(2,activation='softmax'))\n",
        "model.summary()\n"
      ],
      "execution_count": 637,
      "outputs": [
        {
          "output_type": "stream",
          "text": [
            "Model: \"sequential_32\"\n",
            "_________________________________________________________________\n",
            "Layer (type)                 Output Shape              Param #   \n",
            "=================================================================\n",
            "conv2d_64 (Conv2D)           (None, 26, 26, 32)        320       \n",
            "_________________________________________________________________\n",
            "max_pooling2d_62 (MaxPooling (None, 13, 13, 32)        0         \n",
            "_________________________________________________________________\n",
            "conv2d_65 (Conv2D)           (None, 11, 11, 64)        18496     \n",
            "_________________________________________________________________\n",
            "max_pooling2d_63 (MaxPooling (None, 5, 5, 64)          0         \n",
            "_________________________________________________________________\n",
            "dropout_30 (Dropout)         (None, 5, 5, 64)          0         \n",
            "_________________________________________________________________\n",
            "flatten_30 (Flatten)         (None, 1600)              0         \n",
            "_________________________________________________________________\n",
            "dense_60 (Dense)             (None, 128)               204928    \n",
            "_________________________________________________________________\n",
            "dense_61 (Dense)             (None, 2)                 258       \n",
            "=================================================================\n",
            "Total params: 224,002\n",
            "Trainable params: 224,002\n",
            "Non-trainable params: 0\n",
            "_________________________________________________________________\n"
          ],
          "name": "stdout"
        }
      ]
    },
    {
      "cell_type": "code",
      "metadata": {
        "id": "dHCktYypeO4_"
      },
      "source": [
        "# Compile network\n",
        "opt = Adam(lr= 0.001)\n",
        "model.compile( optimizer = opt, loss = 'binary_crossentropy', metrics = ['accuracy'])"
      ],
      "execution_count": 638,
      "outputs": []
    },
    {
      "cell_type": "code",
      "metadata": {
        "id": "B4GPgqVwejSo",
        "outputId": "84459050-017b-473c-ed93-372271beb977",
        "colab": {
          "base_uri": "https://localhost:8080/"
        }
      },
      "source": [
        "# Training the model\n",
        "\n",
        "history = model.fit(train_images_subs, train_labels_subs, epochs = 10, batch_size= 128)\n",
        "results = model.evaluate(test_images_subs,test_label_subs)\n",
        "print(results)"
      ],
      "execution_count": 639,
      "outputs": [
        {
          "output_type": "stream",
          "text": [
            "Epoch 1/10\n",
            "430/430 [==============================] - 2s 5ms/step - loss: 0.1472 - accuracy: 0.9425\n",
            "Epoch 2/10\n",
            "430/430 [==============================] - 2s 4ms/step - loss: 0.0597 - accuracy: 0.9788\n",
            "Epoch 3/10\n",
            "430/430 [==============================] - 2s 4ms/step - loss: 0.0427 - accuracy: 0.9847\n",
            "Epoch 4/10\n",
            "430/430 [==============================] - 2s 4ms/step - loss: 0.0367 - accuracy: 0.9867\n",
            "Epoch 5/10\n",
            "430/430 [==============================] - 2s 4ms/step - loss: 0.0311 - accuracy: 0.9893\n",
            "Epoch 6/10\n",
            "430/430 [==============================] - 2s 4ms/step - loss: 0.0255 - accuracy: 0.9909\n",
            "Epoch 7/10\n",
            "430/430 [==============================] - 2s 4ms/step - loss: 0.0245 - accuracy: 0.9915\n",
            "Epoch 8/10\n",
            "430/430 [==============================] - 2s 4ms/step - loss: 0.0226 - accuracy: 0.9921\n",
            "Epoch 9/10\n",
            "430/430 [==============================] - 2s 4ms/step - loss: 0.0198 - accuracy: 0.9931\n",
            "Epoch 10/10\n",
            "430/430 [==============================] - 2s 4ms/step - loss: 0.0195 - accuracy: 0.9930\n",
            "157/157 [==============================] - 0s 2ms/step - loss: 7.5864 - accuracy: 0.9264\n",
            "[7.586407661437988, 0.9264000058174133]\n"
          ],
          "name": "stdout"
        }
      ]
    },
    {
      "cell_type": "code",
      "metadata": {
        "id": "hLHZCgV6i4uw",
        "outputId": "99be75c6-f837-4460-e86d-43c20559fd2d",
        "colab": {
          "base_uri": "https://localhost:8080/"
        }
      },
      "source": [
        "print(results)\n",
        "model.save(\"cv_model.h5\")"
      ],
      "execution_count": 640,
      "outputs": [
        {
          "output_type": "stream",
          "text": [
            "[7.586407661437988, 0.9264000058174133]\n"
          ],
          "name": "stdout"
        }
      ]
    },
    {
      "cell_type": "code",
      "metadata": {
        "id": "gJKgP810HbCF",
        "outputId": "b15769c7-2e3b-43f1-9a00-591cc3f28121",
        "colab": {
          "base_uri": "https://localhost:8080/"
        }
      },
      "source": [
        "import cv2\n",
        "from keras.models import load_model\n",
        "new_model = load_model(\"cv_model.h5\")\n",
        "img = cv2.imread('imageof3.jpeg', cv2.IMREAD_UNCHANGED)\n",
        "print('Original Dimensions : ',img.shape)"
      ],
      "execution_count": 598,
      "outputs": [
        {
          "output_type": "stream",
          "text": [
            "Original Dimensions :  (1168, 812, 3)\n"
          ],
          "name": "stdout"
        }
      ]
    },
    {
      "cell_type": "code",
      "metadata": {
        "id": "g4RqIQFpHbmp",
        "outputId": "2c3c2dc0-7d08-4eef-819b-0e3a69fc2e51",
        "colab": {
          "base_uri": "https://localhost:8080/"
        }
      },
      "source": [
        "resized_img = cv2.resize(img, (28,28), interpolation = cv2.INTER_AREA)\n",
        "print('Resized Dimensions : ',resized_img.shape)"
      ],
      "execution_count": 599,
      "outputs": [
        {
          "output_type": "stream",
          "text": [
            "Resized Dimensions :  (28, 28, 3)\n"
          ],
          "name": "stdout"
        }
      ]
    },
    {
      "cell_type": "code",
      "metadata": {
        "id": "8KLPLu3FHi9k"
      },
      "source": [
        "grayscale_img = cv2.cvtColor(resized_img, cv2.COLOR_BGR2GRAY)\n",
        "blur_img = cv2.GaussianBlur(grayscale_img, (3,3), 0)\n",
        "req_img = cv2.adaptiveThreshold(blur_img, 255, cv2.ADAPTIVE_THRESH_GAUSSIAN_C, cv2.THRESH_BINARY,5,2)\n"
      ],
      "execution_count": 600,
      "outputs": []
    },
    {
      "cell_type": "code",
      "metadata": {
        "id": "fXNn5A5iJcH5",
        "outputId": "4b52801b-42fa-4067-8874-6ea015cbf050",
        "colab": {
          "base_uri": "https://localhost:8080/",
          "height": 287
        }
      },
      "source": [
        "plt.imshow(img)"
      ],
      "execution_count": 606,
      "outputs": [
        {
          "output_type": "execute_result",
          "data": {
            "text/plain": [
              "<matplotlib.image.AxesImage at 0x7f5de8e55898>"
            ]
          },
          "metadata": {
            "tags": []
          },
          "execution_count": 606
        },
        {
          "output_type": "display_data",
          "data": {
            "image/png": "[encoded data removed]",
            "text/plain": [
              "<Figure size 432x288 with 1 Axes>"
            ]
          },
          "metadata": {
            "tags": [],
            "needs_background": "light"
          }
        }
      ]
    },
    {
      "cell_type": "code",
      "metadata": {
        "id": "XDTDVgK8Hl40",
        "outputId": "ef40d15b-04bf-4372-d45e-a94d425ceff5",
        "colab": {
          "base_uri": "https://localhost:8080/",
          "height": 283
        }
      },
      "source": [
        "plt.imshow(req_img, cmap=plt.get_cmap('gray'))"
      ],
      "execution_count": 602,
      "outputs": [
        {
          "output_type": "execute_result",
          "data": {
            "text/plain": [
              "<matplotlib.image.AxesImage at 0x7f5de8ee2e48>"
            ]
          },
          "metadata": {
            "tags": []
          },
          "execution_count": 602
        },
        {
          "output_type": "display_data",
          "data": {
            "image/png": "[encoded data removed]",
            "text/plain": [
              "<Figure size 432x288 with 1 Axes>"
            ]
          },
          "metadata": {
            "tags": [],
            "needs_background": "light"
          }
        }
      ]
    },
    {
      "cell_type": "code",
      "metadata": {
        "id": "iaCD_530Hn1D"
      },
      "source": [
        "req_img = req_img.astype( 'float32' ) / 255\n",
        "req_img = req_img.reshape((1, 28, 28,1))"
      ],
      "execution_count": 603,
      "outputs": []
    },
    {
      "cell_type": "code",
      "metadata": {
        "id": "mMFKiYOoHqmE",
        "outputId": "8a7f604c-38b0-42a3-e2d1-98e45fcdf16e",
        "colab": {
          "base_uri": "https://localhost:8080/"
        }
      },
      "source": [
        "result = new_model.predict(req_img)\n",
        "print(result)\n",
        "if result[0,0] > result[0,1]:\n",
        "  print(\"The number is Even\")\n",
        "else:\n",
        "  print(\"The number is Odd\")"
      ],
      "execution_count": 604,
      "outputs": [
        {
          "output_type": "stream",
          "text": [
            "WARNING:tensorflow:11 out of the last 11 calls to <function Model.make_predict_function.<locals>.predict_function at 0x7f5de8fc31e0> triggered tf.function retracing. Tracing is expensive and the excessive number of tracings could be due to (1) creating @tf.function repeatedly in a loop, (2) passing tensors with different shapes, (3) passing Python objects instead of tensors. For (1), please define your @tf.function outside of the loop. For (2), @tf.function has experimental_relax_shapes=True option that relaxes argument shapes that can avoid unnecessary retracing. For (3), please refer to https://www.tensorflow.org/tutorials/customization/performance#python_or_tensor_args and https://www.tensorflow.org/api_docs/python/tf/function for  more details.\n",
            "[[0.06081068 0.9391893 ]]\n",
            "The number is Odd\n"
          ],
          "name": "stdout"
        }
      ]
    },
    {
      "cell_type": "code",
      "metadata": {
        "id": "wC5R_YGCdEBu"
      },
      "source": [
        ""
      ],
      "execution_count": 560,
      "outputs": []
    }
  ]
}